{
 "cells": [
  {
   "cell_type": "code",
   "execution_count": null,
   "id": "static-hydrogen",
   "metadata": {},
   "outputs": [],
   "source": [
    "import pycuda.driver as cuda\n",
    "import pycuda.autoinit\n",
    "from pycuda.compiler import SourceModule\n",
    "import numpy\n",
    "from math import sqrt\n",
    "\n",
    "\n",
    "#Now we need to define the kernel to perform the euclidan disatance:\n",
    "mod= SourceModule(\"\"\" \n",
    "__global__ void calculate_distance(int *image1, int *image2, int *dest)\n",
    "{\n",
    "    int sum=0;\n",
    "    int dest1[768];\n",
    "    const int i =threadIdx.x;\n",
    "    dest1[i]=(image1[i] - image2[i])**2;\n",
    "    \n",
    "    for(int i=0;i<768;i++){\n",
    "    dest+=dest1[i];\n",
    "    }\n",
    "    \n",
    "    \n",
    "}\n",
    "\n",
    "\n",
    "\"\"\")"
   ]
  },
  {
   "cell_type": "code",
   "execution_count": null,
   "id": "static-words",
   "metadata": {},
   "outputs": [],
   "source": [
    "\n",
    "#creating two arrays for parrllel addition\n",
    "start=timer()\n",
    "image1= np.random.randint(255,size=(784))\n",
    "image2= np.random.randint(255,size=(784))\n",
    "\n",
    "#since some of the cuda suport only 32 bit precision\n",
    "image1=image1.astype(np.float32)\n",
    "image2=image2.astype(np.float32)\n",
    "\n",
    "dest=np.zeros_like(1)\n",
    "\n",
    "\n"
   ]
  },
  {
   "cell_type": "code",
   "execution_count": null,
   "id": "painted-belize",
   "metadata": {
    "collapsed": true
   },
   "outputs": [],
   "source": [
    "# #now we need to allocate the GPU Memory:\n",
    "# image1_gpu= cuda.mem_alloc(image1.nbytes)\n",
    "# image2_gpu= cuda.mem_alloc(image2.nbytes)\n",
    "\n",
    "# #send data to GPU Memory\n",
    "# cuda.memory_htod(,image1_gpu,image1)\n",
    "# cuda.memory_htod(,image2_gpu,image2)\n",
    "\n",
    "calculate_distance(\n",
    "    cuda.Out(dest), cuda.In(image1), cuda.In(image2),\n",
    "    block=(784,1,1), grid(1,1)\n",
    ")\n",
    "\n",
    "print(\"sum is:\")\n",
    "print(dest)\n",
    "\n",
    "\n",
    "\n"
   ]
  }
 ],
 "metadata": {
  "kernelspec": {
   "display_name": "Python 3",
   "language": "python",
   "name": "python3"
  },
  "language_info": {
   "codemirror_mode": {
    "name": "ipython",
    "version": 3
   },
   "file_extension": ".py",
   "mimetype": "text/x-python",
   "name": "python",
   "nbconvert_exporter": "python",
   "pygments_lexer": "ipython3",
   "version": "3.8.6"
  }
 },
 "nbformat": 4,
 "nbformat_minor": 5
}
